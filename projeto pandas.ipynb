{
  "cells": [
    {
      "cell_type": "markdown",
      "metadata": {},
      "source": [
        "PROJETO REALIZADO EM PARCERIA COM TAMIRA ABOGANEM"
      ]
    },
    {
      "cell_type": "markdown",
      "metadata": {
        "id": "Mvsp5lHnJZ_B"
      },
      "source": [
        "Começamos o código fazendo a instalação dos componentes necessários e importação dos módulos pertinentes.\n",
        "Depois lemos o arquivo CSV"
      ]
    },
    {
      "cell_type": "code",
      "execution_count": null,
      "metadata": {
        "id": "URTYkPBx2kX1"
      },
      "outputs": [],
      "source": [
        "%pip install pandas\n",
        "%pip install pandasql\n",
        "%pip install sqlalchemy\n",
        "%pip install psycopg2"
      ]
    },
    {
      "cell_type": "code",
      "execution_count": 2,
      "metadata": {
        "id": "8JbQALFDXeQM"
      },
      "outputs": [],
      "source": [
        "import pandas as pd\n",
        "import pandasql as ps\n",
        "from sqlalchemy import create_engine\n"
      ]
    },
    {
      "cell_type": "code",
      "execution_count": null,
      "metadata": {},
      "outputs": [],
      "source": [
        "df = pd.read_csv(\"C:/Projeto/imdb_top250_movies.csv\")\n",
        "df"
      ]
    },
    {
      "cell_type": "code",
      "execution_count": null,
      "metadata": {
        "colab": {
          "base_uri": "https://localhost:8080/",
          "height": 1000
        },
        "id": "eNcH_p0WXvhe",
        "outputId": "7b9feb61-9d31-4403-f2ec-50241f453629"
      },
      "outputs": [],
      "source": [
        "top_filmes = pd.read_csv(\"C:/Projeto/imdb_top250_movies.csv\")\n",
        "top_filmes\n"
      ]
    },
    {
      "cell_type": "markdown",
      "metadata": {
        "id": "j-POB0SkIbqI"
      },
      "source": [
        "Agora que já fizemos a leitura do arquivo, vamos dar uma olhada na estrutura e tipo de informações que ele tem.\n",
        "Já sabemos que há colunas com diferentes tipagens: string, integer, float, data, tempo, moeda etc.\n",
        "Para ter uma noção do tamanho do arquivo, podemos ver seu shape, isto é, seu formato.\n",
        "Nesse caso, são 250 linhas e 23 colunas."
      ]
    },
    {
      "cell_type": "code",
      "execution_count": null,
      "metadata": {
        "colab": {
          "base_uri": "https://localhost:8080/"
        },
        "id": "L8fNhoiRawKu",
        "outputId": "2ac4a557-b0f2-4980-9a6a-d830e73246a1"
      },
      "outputs": [],
      "source": [
        "df.shape"
      ]
    },
    {
      "cell_type": "markdown",
      "metadata": {
        "id": "jcHfxuIoKhK2"
      },
      "source": [
        "Com um simples describe, já podemos ver algumas informações interessantes:\n",
        "1. O filme mais antigo da nossa listagem foi lançado em 1921 e o mais recente em 2017.\n",
        "2. A pontuação máxima dos 250 melhores filmes é de 9.3, a mínima de 8.0 e a média de 8.24.\n",
        "\n"
      ]
    },
    {
      "cell_type": "code",
      "execution_count": null,
      "metadata": {
        "colab": {
          "base_uri": "https://localhost:8080/",
          "height": 300
        },
        "id": "7aCWCQeG60pf",
        "outputId": "03b4c1d8-5157-4017-f2b0-20bee2aae620"
      },
      "outputs": [
        {
          "data": {
            "text/html": [
              "\n",
              "  <div id=\"df-ed892026-fac8-4dd1-a15e-8cf7bc286b45\" class=\"colab-df-container\">\n",
              "    <div>\n",
              "<style scoped>\n",
              "    .dataframe tbody tr th:only-of-type {\n",
              "        vertical-align: middle;\n",
              "    }\n",
              "\n",
              "    .dataframe tbody tr th {\n",
              "        vertical-align: top;\n",
              "    }\n",
              "\n",
              "    .dataframe thead th {\n",
              "        text-align: right;\n",
              "    }\n",
              "</style>\n",
              "<table border=\"1\" class=\"dataframe\">\n",
              "  <thead>\n",
              "    <tr style=\"text-align: right;\">\n",
              "      <th></th>\n",
              "      <th>Unnamed: 0</th>\n",
              "      <th>Num</th>\n",
              "      <th>Year</th>\n",
              "      <th>Metascore</th>\n",
              "      <th>imdbRating</th>\n",
              "    </tr>\n",
              "  </thead>\n",
              "  <tbody>\n",
              "    <tr>\n",
              "      <th>count</th>\n",
              "      <td>250.000000</td>\n",
              "      <td>250.000000</td>\n",
              "      <td>250.000000</td>\n",
              "      <td>177.000000</td>\n",
              "      <td>250.000000</td>\n",
              "    </tr>\n",
              "    <tr>\n",
              "      <th>mean</th>\n",
              "      <td>124.500000</td>\n",
              "      <td>125.500000</td>\n",
              "      <td>1982.676000</td>\n",
              "      <td>80.045198</td>\n",
              "      <td>8.244000</td>\n",
              "    </tr>\n",
              "    <tr>\n",
              "      <th>std</th>\n",
              "      <td>72.312977</td>\n",
              "      <td>72.312977</td>\n",
              "      <td>24.809212</td>\n",
              "      <td>11.030340</td>\n",
              "      <td>0.245735</td>\n",
              "    </tr>\n",
              "    <tr>\n",
              "      <th>min</th>\n",
              "      <td>0.000000</td>\n",
              "      <td>1.000000</td>\n",
              "      <td>1921.000000</td>\n",
              "      <td>53.000000</td>\n",
              "      <td>8.000000</td>\n",
              "    </tr>\n",
              "    <tr>\n",
              "      <th>25%</th>\n",
              "      <td>62.250000</td>\n",
              "      <td>63.250000</td>\n",
              "      <td>1961.250000</td>\n",
              "      <td>72.000000</td>\n",
              "      <td>8.100000</td>\n",
              "    </tr>\n",
              "    <tr>\n",
              "      <th>50%</th>\n",
              "      <td>124.500000</td>\n",
              "      <td>125.500000</td>\n",
              "      <td>1988.000000</td>\n",
              "      <td>81.000000</td>\n",
              "      <td>8.200000</td>\n",
              "    </tr>\n",
              "    <tr>\n",
              "      <th>75%</th>\n",
              "      <td>186.750000</td>\n",
              "      <td>187.750000</td>\n",
              "      <td>2003.000000</td>\n",
              "      <td>89.000000</td>\n",
              "      <td>8.375000</td>\n",
              "    </tr>\n",
              "    <tr>\n",
              "      <th>max</th>\n",
              "      <td>249.000000</td>\n",
              "      <td>250.000000</td>\n",
              "      <td>2017.000000</td>\n",
              "      <td>100.000000</td>\n",
              "      <td>9.300000</td>\n",
              "    </tr>\n",
              "  </tbody>\n",
              "</table>\n",
              "</div>\n",
              "    <div class=\"colab-df-buttons\">\n",
              "\n",
              "  <div class=\"colab-df-container\">\n",
              "    <button class=\"colab-df-convert\" onclick=\"convertToInteractive('df-ed892026-fac8-4dd1-a15e-8cf7bc286b45')\"\n",
              "            title=\"Convert this dataframe to an interactive table.\"\n",
              "            style=\"display:none;\">\n",
              "\n",
              "  <svg xmlns=\"http://www.w3.org/2000/svg\" height=\"24px\" viewBox=\"0 -960 960 960\">\n",
              "    <path d=\"M120-120v-720h720v720H120Zm60-500h600v-160H180v160Zm220 220h160v-160H400v160Zm0 220h160v-160H400v160ZM180-400h160v-160H180v160Zm440 0h160v-160H620v160ZM180-180h160v-160H180v160Zm440 0h160v-160H620v160Z\"/>\n",
              "  </svg>\n",
              "    </button>\n",
              "\n",
              "  <style>\n",
              "    .colab-df-container {\n",
              "      display:flex;\n",
              "      gap: 12px;\n",
              "    }\n",
              "\n",
              "    .colab-df-convert {\n",
              "      background-color: #E8F0FE;\n",
              "      border: none;\n",
              "      border-radius: 50%;\n",
              "      cursor: pointer;\n",
              "      display: none;\n",
              "      fill: #1967D2;\n",
              "      height: 32px;\n",
              "      padding: 0 0 0 0;\n",
              "      width: 32px;\n",
              "    }\n",
              "\n",
              "    .colab-df-convert:hover {\n",
              "      background-color: #E2EBFA;\n",
              "      box-shadow: 0px 1px 2px rgba(60, 64, 67, 0.3), 0px 1px 3px 1px rgba(60, 64, 67, 0.15);\n",
              "      fill: #174EA6;\n",
              "    }\n",
              "\n",
              "    .colab-df-buttons div {\n",
              "      margin-bottom: 4px;\n",
              "    }\n",
              "\n",
              "    [theme=dark] .colab-df-convert {\n",
              "      background-color: #3B4455;\n",
              "      fill: #D2E3FC;\n",
              "    }\n",
              "\n",
              "    [theme=dark] .colab-df-convert:hover {\n",
              "      background-color: #434B5C;\n",
              "      box-shadow: 0px 1px 3px 1px rgba(0, 0, 0, 0.15);\n",
              "      filter: drop-shadow(0px 1px 2px rgba(0, 0, 0, 0.3));\n",
              "      fill: #FFFFFF;\n",
              "    }\n",
              "  </style>\n",
              "\n",
              "    <script>\n",
              "      const buttonEl =\n",
              "        document.querySelector('#df-ed892026-fac8-4dd1-a15e-8cf7bc286b45 button.colab-df-convert');\n",
              "      buttonEl.style.display =\n",
              "        google.colab.kernel.accessAllowed ? 'block' : 'none';\n",
              "\n",
              "      async function convertToInteractive(key) {\n",
              "        const element = document.querySelector('#df-ed892026-fac8-4dd1-a15e-8cf7bc286b45');\n",
              "        const dataTable =\n",
              "          await google.colab.kernel.invokeFunction('convertToInteractive',\n",
              "                                                    [key], {});\n",
              "        if (!dataTable) return;\n",
              "\n",
              "        const docLinkHtml = 'Like what you see? Visit the ' +\n",
              "          '<a target=\"_blank\" href=https://colab.research.google.com/notebooks/data_table.ipynb>data table notebook</a>'\n",
              "          + ' to learn more about interactive tables.';\n",
              "        element.innerHTML = '';\n",
              "        dataTable['output_type'] = 'display_data';\n",
              "        await google.colab.output.renderOutput(dataTable, element);\n",
              "        const docLink = document.createElement('div');\n",
              "        docLink.innerHTML = docLinkHtml;\n",
              "        element.appendChild(docLink);\n",
              "      }\n",
              "    </script>\n",
              "  </div>\n",
              "\n",
              "\n",
              "<div id=\"df-e685e501-b159-44f5-a868-4ce6ec83daa1\">\n",
              "  <button class=\"colab-df-quickchart\" onclick=\"quickchart('df-e685e501-b159-44f5-a868-4ce6ec83daa1')\"\n",
              "            title=\"Suggest charts\"\n",
              "            style=\"display:none;\">\n",
              "\n",
              "<svg xmlns=\"http://www.w3.org/2000/svg\" height=\"24px\"viewBox=\"0 0 24 24\"\n",
              "     width=\"24px\">\n",
              "    <g>\n",
              "        <path d=\"M19 3H5c-1.1 0-2 .9-2 2v14c0 1.1.9 2 2 2h14c1.1 0 2-.9 2-2V5c0-1.1-.9-2-2-2zM9 17H7v-7h2v7zm4 0h-2V7h2v10zm4 0h-2v-4h2v4z\"/>\n",
              "    </g>\n",
              "</svg>\n",
              "  </button>\n",
              "\n",
              "<style>\n",
              "  .colab-df-quickchart {\n",
              "      --bg-color: #E8F0FE;\n",
              "      --fill-color: #1967D2;\n",
              "      --hover-bg-color: #E2EBFA;\n",
              "      --hover-fill-color: #174EA6;\n",
              "      --disabled-fill-color: #AAA;\n",
              "      --disabled-bg-color: #DDD;\n",
              "  }\n",
              "\n",
              "  [theme=dark] .colab-df-quickchart {\n",
              "      --bg-color: #3B4455;\n",
              "      --fill-color: #D2E3FC;\n",
              "      --hover-bg-color: #434B5C;\n",
              "      --hover-fill-color: #FFFFFF;\n",
              "      --disabled-bg-color: #3B4455;\n",
              "      --disabled-fill-color: #666;\n",
              "  }\n",
              "\n",
              "  .colab-df-quickchart {\n",
              "    background-color: var(--bg-color);\n",
              "    border: none;\n",
              "    border-radius: 50%;\n",
              "    cursor: pointer;\n",
              "    display: none;\n",
              "    fill: var(--fill-color);\n",
              "    height: 32px;\n",
              "    padding: 0;\n",
              "    width: 32px;\n",
              "  }\n",
              "\n",
              "  .colab-df-quickchart:hover {\n",
              "    background-color: var(--hover-bg-color);\n",
              "    box-shadow: 0 1px 2px rgba(60, 64, 67, 0.3), 0 1px 3px 1px rgba(60, 64, 67, 0.15);\n",
              "    fill: var(--button-hover-fill-color);\n",
              "  }\n",
              "\n",
              "  .colab-df-quickchart-complete:disabled,\n",
              "  .colab-df-quickchart-complete:disabled:hover {\n",
              "    background-color: var(--disabled-bg-color);\n",
              "    fill: var(--disabled-fill-color);\n",
              "    box-shadow: none;\n",
              "  }\n",
              "\n",
              "  .colab-df-spinner {\n",
              "    border: 2px solid var(--fill-color);\n",
              "    border-color: transparent;\n",
              "    border-bottom-color: var(--fill-color);\n",
              "    animation:\n",
              "      spin 1s steps(1) infinite;\n",
              "  }\n",
              "\n",
              "  @keyframes spin {\n",
              "    0% {\n",
              "      border-color: transparent;\n",
              "      border-bottom-color: var(--fill-color);\n",
              "      border-left-color: var(--fill-color);\n",
              "    }\n",
              "    20% {\n",
              "      border-color: transparent;\n",
              "      border-left-color: var(--fill-color);\n",
              "      border-top-color: var(--fill-color);\n",
              "    }\n",
              "    30% {\n",
              "      border-color: transparent;\n",
              "      border-left-color: var(--fill-color);\n",
              "      border-top-color: var(--fill-color);\n",
              "      border-right-color: var(--fill-color);\n",
              "    }\n",
              "    40% {\n",
              "      border-color: transparent;\n",
              "      border-right-color: var(--fill-color);\n",
              "      border-top-color: var(--fill-color);\n",
              "    }\n",
              "    60% {\n",
              "      border-color: transparent;\n",
              "      border-right-color: var(--fill-color);\n",
              "    }\n",
              "    80% {\n",
              "      border-color: transparent;\n",
              "      border-right-color: var(--fill-color);\n",
              "      border-bottom-color: var(--fill-color);\n",
              "    }\n",
              "    90% {\n",
              "      border-color: transparent;\n",
              "      border-bottom-color: var(--fill-color);\n",
              "    }\n",
              "  }\n",
              "</style>\n",
              "\n",
              "  <script>\n",
              "    async function quickchart(key) {\n",
              "      const quickchartButtonEl =\n",
              "        document.querySelector('#' + key + ' button');\n",
              "      quickchartButtonEl.disabled = true;  // To prevent multiple clicks.\n",
              "      quickchartButtonEl.classList.add('colab-df-spinner');\n",
              "      try {\n",
              "        const charts = await google.colab.kernel.invokeFunction(\n",
              "            'suggestCharts', [key], {});\n",
              "      } catch (error) {\n",
              "        console.error('Error during call to suggestCharts:', error);\n",
              "      }\n",
              "      quickchartButtonEl.classList.remove('colab-df-spinner');\n",
              "      quickchartButtonEl.classList.add('colab-df-quickchart-complete');\n",
              "    }\n",
              "    (() => {\n",
              "      let quickchartButtonEl =\n",
              "        document.querySelector('#df-e685e501-b159-44f5-a868-4ce6ec83daa1 button');\n",
              "      quickchartButtonEl.style.display =\n",
              "        google.colab.kernel.accessAllowed ? 'block' : 'none';\n",
              "    })();\n",
              "  </script>\n",
              "</div>\n",
              "\n",
              "    </div>\n",
              "  </div>\n"
            ],
            "text/plain": [
              "       Unnamed: 0         Num         Year   Metascore  imdbRating\n",
              "count  250.000000  250.000000   250.000000  177.000000  250.000000\n",
              "mean   124.500000  125.500000  1982.676000   80.045198    8.244000\n",
              "std     72.312977   72.312977    24.809212   11.030340    0.245735\n",
              "min      0.000000    1.000000  1921.000000   53.000000    8.000000\n",
              "25%     62.250000   63.250000  1961.250000   72.000000    8.100000\n",
              "50%    124.500000  125.500000  1988.000000   81.000000    8.200000\n",
              "75%    186.750000  187.750000  2003.000000   89.000000    8.375000\n",
              "max    249.000000  250.000000  2017.000000  100.000000    9.300000"
            ]
          },
          "execution_count": 52,
          "metadata": {},
          "output_type": "execute_result"
        }
      ],
      "source": [
        "df.describe()"
      ]
    },
    {
      "cell_type": "code",
      "execution_count": 14,
      "metadata": {
        "colab": {
          "base_uri": "https://localhost:8080/",
          "height": 616
        },
        "id": "8OMHm3Y98fJm",
        "outputId": "d2df096b-1d05-4ea9-d0fa-3f8c5ee35829"
      },
      "outputs": [
        {
          "data": {
            "text/plain": [
              "250"
            ]
          },
          "execution_count": 14,
          "metadata": {},
          "output_type": "execute_result"
        }
      ],
      "source": [
        "from sqlalchemy import create_engine\n",
        "\n",
        "SGBD = \"postgresql+psycopg2\"\n",
        "USER = \"postgres\"\n",
        "SENHA = \"senha\"\n",
        "HOST = \"localhost\"\n",
        "DATABASE = \"postgres\"\n",
        "\n",
        "engine = create_engine(f'{SGBD}://{USER}:{SENHA}@{HOST}/{DATABASE}')\n",
        "conn = engine.connect()\n",
        "\n",
        "df.to_sql(\"df\", con=engine)\n"
      ]
    },
    {
      "cell_type": "markdown",
      "metadata": {},
      "source": [
        "1. Fazendo uma busca simples, já podemos identificar quais diretores, produtoras e categorias aparecem no top 10 da lista.\n",
        "Basta exibir o nome, categoria, diretor e produtora dos 10 primeiros colocados:"
      ]
    },
    {
      "cell_type": "code",
      "execution_count": null,
      "metadata": {},
      "outputs": [],
      "source": [
        "query = \"\"\"\n",
        "SELECT \n",
        "  Title,\n",
        "  Genre,\n",
        "  Director,\n",
        "  Production,\n",
        "  Year,\n",
        "  imdbRating AS \"Pontuação\"\n",
        "FROM\n",
        "  top_filmes\n",
        "ORDER BY imdbRating DESC\n",
        "LIMIT 10\n",
        "\"\"\"\n",
        "\n",
        "ps.sqldf(query)"
      ]
    },
    {
      "cell_type": "markdown",
      "metadata": {},
      "source": [
        "2. E agora as mesmas informações sobre os 10 últimos colocados:"
      ]
    },
    {
      "cell_type": "code",
      "execution_count": null,
      "metadata": {
        "id": "k8e0m6CcEh7J"
      },
      "outputs": [],
      "source": [
        "query = \"\"\"\n",
        "SELECT\n",
        "  Title,\n",
        "  Genre,\n",
        "  Director,\n",
        "  Production,\n",
        "  Year,\n",
        "  imdbRating AS \"Pontuação\"\n",
        "FROM\n",
        "  top_filmes\n",
        "ORDER BY imdbRating DESC\n",
        "LIMIT 10\n",
        "\"\"\"\n",
        "\n",
        "ps.sqldf(query)"
      ]
    },
    {
      "cell_type": "markdown",
      "metadata": {},
      "source": [
        "3. Para calcular a média de pontuação do top 10, podemos:"
      ]
    },
    {
      "cell_type": "code",
      "execution_count": null,
      "metadata": {},
      "outputs": [],
      "source": [
        "query = \"\"\"\n",
        "SELECT\n",
        "  AVG(\"Pontuação\") AS \"Pontuação Média\"\n",
        "FROM (SELECT\n",
        "        Title,\n",
        "        Genre,\n",
        "        Director,\n",
        "        Production,\n",
        "        Year,\n",
        "        imdbRating AS \"Pontuação\"\n",
        "      FROM\n",
        "        top_filmes\n",
        "      ORDER BY imdbRating DESC\n",
        "      LIMIT 10) AS TOP10\n",
        "GROUP BY AVG(\"Pontuação\")\n",
        "\"\"\"\n",
        "\n",
        "ps.sqldf(query)"
      ]
    },
    {
      "cell_type": "markdown",
      "metadata": {},
      "source": [
        "4. Contando quantas vezes um mesmo diretor aparece na lista, sabemos quais os mais premiados:"
      ]
    },
    {
      "cell_type": "code",
      "execution_count": null,
      "metadata": {},
      "outputs": [],
      "source": [
        "query = \"\"\"\n",
        "SELECT\n",
        "  Director,\n",
        "  COUNT(Title)\n",
        "FROM\n",
        "  top_filmes\n",
        "ORDER BY COUNT(Title) DESC\n",
        "\"\"\"\n",
        "\n",
        "ps.sqldf(query)"
      ]
    },
    {
      "cell_type": "markdown",
      "metadata": {},
      "source": [
        "5. Descobrindo as categorias de filme que existem na nossa lista:\n"
      ]
    },
    {
      "cell_type": "code",
      "execution_count": null,
      "metadata": {},
      "outputs": [],
      "source": [
        "query = \"\"\"\n",
        "SELECT\n",
        "  DISTINCT Genre\n",
        "FROM\n",
        "  top_filmes\n",
        "ORDER BY COUNT(Title) DESC\n",
        "\"\"\"\n",
        "\n",
        "ps.sqldf(query)"
      ]
    },
    {
      "cell_type": "markdown",
      "metadata": {},
      "source": [
        "7. E o tempo de duração do filme, será que tem a ver com pontuação e votação? Vejamos:"
      ]
    },
    {
      "cell_type": "code",
      "execution_count": null,
      "metadata": {},
      "outputs": [],
      "source": [
        "query = \"\"\"\n",
        "SELECT\n",
        "  Num,\n",
        "  Title,\n",
        "  imdbVotes,\n",
        "  Runtime\n",
        "FROM\n",
        "  top_filmes\n",
        "ORDER BY Runtime\n",
        "\"\"\"\n",
        "\n",
        "ps.sqldf(query)"
      ]
    },
    {
      "cell_type": "markdown",
      "metadata": {},
      "source": [
        "8. Média de votos para os filmes da lista:"
      ]
    },
    {
      "cell_type": "code",
      "execution_count": null,
      "metadata": {},
      "outputs": [],
      "source": [
        "query = \"\"\"\n",
        "SELECT\n",
        "  SUM(imdbVotes) AS \"Votação Média\"\n",
        "FROM\n",
        "  top_filmes\n",
        "GROUP BY SUM(imdbVotes)\n",
        "\"\"\"\n",
        "\n",
        "ps.sqldf(query)"
      ]
    },
    {
      "cell_type": "markdown",
      "metadata": {},
      "source": [
        "9. Quais os anos que produziram os melhores filmes?"
      ]
    },
    {
      "cell_type": "code",
      "execution_count": null,
      "metadata": {},
      "outputs": [],
      "source": [
        "query = \"\"\"\n",
        "SELECT\n",
        "  Title,\n",
        "  Year,\n",
        "FROM\n",
        "  top_filmes\n",
        "ORDER BY imdbRating DESC\n",
        "LIMIT 10\n",
        "\"\"\"\n",
        "\n",
        "ps.sqldf(query)"
      ]
    },
    {
      "cell_type": "markdown",
      "metadata": {},
      "source": [
        "10. Por último, mas não menos importante, podemos identificar os melhores escritores e atores:"
      ]
    },
    {
      "cell_type": "code",
      "execution_count": null,
      "metadata": {},
      "outputs": [],
      "source": [
        "query = \"\"\"\n",
        "SELECT\n",
        "  Title,\n",
        "  Writer,\n",
        "  Actors\n",
        "FROM\n",
        "  top_filmes\n",
        "ORDER BY imdbRating DESC\n",
        "LIMIT 10\n",
        "\"\"\"\n",
        "\n",
        "ps.sqldf(query)"
      ]
    }
  ],
  "metadata": {
    "colab": {
      "provenance": []
    },
    "kernelspec": {
      "display_name": "Python 3",
      "name": "python3"
    },
    "language_info": {
      "codemirror_mode": {
        "name": "ipython",
        "version": 3
      },
      "file_extension": ".py",
      "mimetype": "text/x-python",
      "name": "python",
      "nbconvert_exporter": "python",
      "pygments_lexer": "ipython3",
      "version": "3.11.3"
    }
  },
  "nbformat": 4,
  "nbformat_minor": 0
}
